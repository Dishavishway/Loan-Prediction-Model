{
 "cells": [
  {
   "cell_type": "code",
   "execution_count": 1,
   "metadata": {
    "executionInfo": {
     "elapsed": 5,
     "status": "ok",
     "timestamp": 1698923363678,
     "user": {
      "displayName": "Shivansh Kaushal",
      "userId": "00410086506157610457"
     },
     "user_tz": -330
    },
    "id": "N1174ZAOqvyo"
   },
   "outputs": [],
   "source": [
    "# %tensorflow_version 1.x"
   ]
  },
  {
   "cell_type": "markdown",
   "metadata": {
    "id": "WjKX7h16glKA"
   },
   "source": [
    "# Steps to build a Neural Network using Keras\n",
    "\n",
    "<ol>1. Loading the dataset</ol>\n",
    "<ol>2. Creating training and validation set</ol>\n",
    "<ol>3. Defining the architecture of the model</ol>\n",
    "<ol>4. Compiling the model (defining loss function, optimizer)</ol>\n",
    "<ol>5. Training the model</ol>\n",
    "<ol>6. Evaluating model performance on training and validation set</ol>"
   ]
  },
  {
   "cell_type": "markdown",
   "metadata": {
    "id": "56f3bnnIglKI"
   },
   "source": [
    "## 1. Loading the dataset"
   ]
  },
  {
   "cell_type": "code",
   "execution_count": 4,
   "metadata": {
    "executionInfo": {
     "elapsed": 624,
     "status": "ok",
     "timestamp": 1698923364298,
     "user": {
      "displayName": "Shivansh Kaushal",
      "userId": "00410086506157610457"
     },
     "user_tz": -330
    },
    "id": "as3tljzfglKN"
   },
   "outputs": [],
   "source": [
    "# importing the required libraries\n",
    "import pandas as pd\n",
    "import numpy as np\n",
    "import sklearn\n",
    "from sklearn.model_selection import train_test_split\n",
    "from sklearn.metrics import accuracy_score\n",
    "import matplotlib.pyplot as plt\n",
    "%matplotlib inline"
   ]
  },
  {
   "cell_type": "code",
   "execution_count": 5,
   "metadata": {
    "colab": {
     "base_uri": "https://localhost:8080/"
    },
    "executionInfo": {
     "elapsed": 769,
     "status": "ok",
     "timestamp": 1698923365051,
     "user": {
      "displayName": "Shivansh Kaushal",
      "userId": "00410086506157610457"
     },
     "user_tz": -330
    },
    "id": "Bzp09t1S_07z",
    "outputId": "51b2e5d3-8152-4027-bf4b-cb8149a35834"
   },
   "outputs": [
    {
     "name": "stdout",
     "output_type": "stream",
     "text": [
      "Version of sklearn: 1.5.1\n"
     ]
    }
   ],
   "source": [
    "# check version on sklearn\n",
    "print('Version of sklearn:', sklearn.__version__)"
   ]
  },
  {
   "cell_type": "code",
   "execution_count": 6,
   "metadata": {
    "executionInfo": {
     "elapsed": 19,
     "status": "ok",
     "timestamp": 1698923365051,
     "user": {
      "displayName": "Shivansh Kaushal",
      "userId": "00410086506157610457"
     },
     "user_tz": -330
    },
    "id": "UXQcz5rtglKe"
   },
   "outputs": [],
   "source": [
    "# loading the pre-processed dataset\n",
    "data = pd.read_csv('loan_prediction_data.csv')"
   ]
  },
  {
   "cell_type": "code",
   "execution_count": 7,
   "metadata": {
    "colab": {
     "base_uri": "https://localhost:8080/",
     "height": 226
    },
    "executionInfo": {
     "elapsed": 19,
     "status": "ok",
     "timestamp": 1698923365052,
     "user": {
      "displayName": "Shivansh Kaushal",
      "userId": "00410086506157610457"
     },
     "user_tz": -330
    },
    "id": "ntuq8jfzglKp",
    "outputId": "f6fae5b6-349f-4367-d698-70c02c69ef0b",
    "scrolled": false
   },
   "outputs": [
    {
     "data": {
      "text/html": [
       "<div>\n",
       "<style scoped>\n",
       "    .dataframe tbody tr th:only-of-type {\n",
       "        vertical-align: middle;\n",
       "    }\n",
       "\n",
       "    .dataframe tbody tr th {\n",
       "        vertical-align: top;\n",
       "    }\n",
       "\n",
       "    .dataframe thead th {\n",
       "        text-align: right;\n",
       "    }\n",
       "</style>\n",
       "<table border=\"1\" class=\"dataframe\">\n",
       "  <thead>\n",
       "    <tr style=\"text-align: right;\">\n",
       "      <th></th>\n",
       "      <th>Loan_ID</th>\n",
       "      <th>Gender</th>\n",
       "      <th>Married</th>\n",
       "      <th>Dependents</th>\n",
       "      <th>Education</th>\n",
       "      <th>Self_Employed</th>\n",
       "      <th>ApplicantIncome</th>\n",
       "      <th>CoapplicantIncome</th>\n",
       "      <th>LoanAmount</th>\n",
       "      <th>Loan_Amount_Term</th>\n",
       "      <th>Credit_History</th>\n",
       "      <th>Property_Area</th>\n",
       "      <th>Loan_Status</th>\n",
       "    </tr>\n",
       "  </thead>\n",
       "  <tbody>\n",
       "    <tr>\n",
       "      <th>0</th>\n",
       "      <td>LP001002</td>\n",
       "      <td>0.0</td>\n",
       "      <td>0.0</td>\n",
       "      <td>0.000000</td>\n",
       "      <td>1.0</td>\n",
       "      <td>0.0</td>\n",
       "      <td>0.070489</td>\n",
       "      <td>0.000000</td>\n",
       "      <td>0.198860</td>\n",
       "      <td>0.74359</td>\n",
       "      <td>1.0</td>\n",
       "      <td>1.0</td>\n",
       "      <td>1.0</td>\n",
       "    </tr>\n",
       "    <tr>\n",
       "      <th>1</th>\n",
       "      <td>LP001003</td>\n",
       "      <td>0.0</td>\n",
       "      <td>1.0</td>\n",
       "      <td>0.333333</td>\n",
       "      <td>1.0</td>\n",
       "      <td>0.0</td>\n",
       "      <td>0.054830</td>\n",
       "      <td>0.036192</td>\n",
       "      <td>0.172214</td>\n",
       "      <td>0.74359</td>\n",
       "      <td>1.0</td>\n",
       "      <td>0.0</td>\n",
       "      <td>0.0</td>\n",
       "    </tr>\n",
       "    <tr>\n",
       "      <th>2</th>\n",
       "      <td>LP001005</td>\n",
       "      <td>0.0</td>\n",
       "      <td>1.0</td>\n",
       "      <td>0.000000</td>\n",
       "      <td>1.0</td>\n",
       "      <td>1.0</td>\n",
       "      <td>0.035250</td>\n",
       "      <td>0.000000</td>\n",
       "      <td>0.082489</td>\n",
       "      <td>0.74359</td>\n",
       "      <td>1.0</td>\n",
       "      <td>1.0</td>\n",
       "      <td>1.0</td>\n",
       "    </tr>\n",
       "    <tr>\n",
       "      <th>3</th>\n",
       "      <td>LP001006</td>\n",
       "      <td>0.0</td>\n",
       "      <td>1.0</td>\n",
       "      <td>0.000000</td>\n",
       "      <td>0.0</td>\n",
       "      <td>0.0</td>\n",
       "      <td>0.030093</td>\n",
       "      <td>0.056592</td>\n",
       "      <td>0.160637</td>\n",
       "      <td>0.74359</td>\n",
       "      <td>1.0</td>\n",
       "      <td>1.0</td>\n",
       "      <td>1.0</td>\n",
       "    </tr>\n",
       "    <tr>\n",
       "      <th>4</th>\n",
       "      <td>LP001008</td>\n",
       "      <td>0.0</td>\n",
       "      <td>0.0</td>\n",
       "      <td>0.000000</td>\n",
       "      <td>1.0</td>\n",
       "      <td>0.0</td>\n",
       "      <td>0.072356</td>\n",
       "      <td>0.000000</td>\n",
       "      <td>0.191027</td>\n",
       "      <td>0.74359</td>\n",
       "      <td>1.0</td>\n",
       "      <td>1.0</td>\n",
       "      <td>1.0</td>\n",
       "    </tr>\n",
       "  </tbody>\n",
       "</table>\n",
       "</div>"
      ],
      "text/plain": [
       "    Loan_ID  Gender  Married  Dependents  Education  Self_Employed  \\\n",
       "0  LP001002     0.0      0.0    0.000000        1.0            0.0   \n",
       "1  LP001003     0.0      1.0    0.333333        1.0            0.0   \n",
       "2  LP001005     0.0      1.0    0.000000        1.0            1.0   \n",
       "3  LP001006     0.0      1.0    0.000000        0.0            0.0   \n",
       "4  LP001008     0.0      0.0    0.000000        1.0            0.0   \n",
       "\n",
       "   ApplicantIncome  CoapplicantIncome  LoanAmount  Loan_Amount_Term  \\\n",
       "0         0.070489           0.000000    0.198860           0.74359   \n",
       "1         0.054830           0.036192    0.172214           0.74359   \n",
       "2         0.035250           0.000000    0.082489           0.74359   \n",
       "3         0.030093           0.056592    0.160637           0.74359   \n",
       "4         0.072356           0.000000    0.191027           0.74359   \n",
       "\n",
       "   Credit_History  Property_Area  Loan_Status  \n",
       "0             1.0            1.0          1.0  \n",
       "1             1.0            0.0          0.0  \n",
       "2             1.0            1.0          1.0  \n",
       "3             1.0            1.0          1.0  \n",
       "4             1.0            1.0          1.0  "
      ]
     },
     "execution_count": 7,
     "metadata": {},
     "output_type": "execute_result"
    }
   ],
   "source": [
    "# looking at the first five rows of the dataset\n",
    "data.head()"
   ]
  },
  {
   "cell_type": "code",
   "execution_count": 8,
   "metadata": {
    "colab": {
     "base_uri": "https://localhost:8080/"
    },
    "executionInfo": {
     "elapsed": 17,
     "status": "ok",
     "timestamp": 1698923365052,
     "user": {
      "displayName": "Shivansh Kaushal",
      "userId": "00410086506157610457"
     },
     "user_tz": -330
    },
    "id": "2iqbEhkaglK0",
    "outputId": "83b4f7cc-343f-403c-e1e3-ba1cbc7dfcbf"
   },
   "outputs": [
    {
     "data": {
      "text/plain": [
       "Loan_ID              0\n",
       "Gender               0\n",
       "Married              0\n",
       "Dependents           0\n",
       "Education            0\n",
       "Self_Employed        0\n",
       "ApplicantIncome      0\n",
       "CoapplicantIncome    0\n",
       "LoanAmount           0\n",
       "Loan_Amount_Term     0\n",
       "Credit_History       0\n",
       "Property_Area        0\n",
       "Loan_Status          0\n",
       "dtype: int64"
      ]
     },
     "execution_count": 8,
     "metadata": {},
     "output_type": "execute_result"
    }
   ],
   "source": [
    "# checking missing values\n",
    "data.isnull().sum()"
   ]
  },
  {
   "cell_type": "code",
   "execution_count": 9,
   "metadata": {
    "colab": {
     "base_uri": "https://localhost:8080/"
    },
    "executionInfo": {
     "elapsed": 12,
     "status": "ok",
     "timestamp": 1698923365052,
     "user": {
      "displayName": "Shivansh Kaushal",
      "userId": "00410086506157610457"
     },
     "user_tz": -330
    },
    "id": "QOnBYzGnglK-",
    "outputId": "b1ceef92-12e6-4972-dbf4-8d89d291be5a"
   },
   "outputs": [
    {
     "data": {
      "text/plain": [
       "Loan_ID               object\n",
       "Gender               float64\n",
       "Married              float64\n",
       "Dependents           float64\n",
       "Education            float64\n",
       "Self_Employed        float64\n",
       "ApplicantIncome      float64\n",
       "CoapplicantIncome    float64\n",
       "LoanAmount           float64\n",
       "Loan_Amount_Term     float64\n",
       "Credit_History       float64\n",
       "Property_Area        float64\n",
       "Loan_Status          float64\n",
       "dtype: object"
      ]
     },
     "execution_count": 9,
     "metadata": {},
     "output_type": "execute_result"
    }
   ],
   "source": [
    "# checking the data type\n",
    "data.dtypes"
   ]
  },
  {
   "cell_type": "code",
   "execution_count": 10,
   "metadata": {
    "executionInfo": {
     "elapsed": 10,
     "status": "ok",
     "timestamp": 1698923365052,
     "user": {
      "displayName": "Shivansh Kaushal",
      "userId": "00410086506157610457"
     },
     "user_tz": -330
    },
    "id": "TYuwXXuNglLI"
   },
   "outputs": [],
   "source": [
    "# removing the loan_ID since these are just the unique values\n",
    "data = data.drop('Loan_ID', axis=1)"
   ]
  },
  {
   "cell_type": "code",
   "execution_count": 11,
   "metadata": {
    "colab": {
     "base_uri": "https://localhost:8080/"
    },
    "executionInfo": {
     "elapsed": 9,
     "status": "ok",
     "timestamp": 1698923365052,
     "user": {
      "displayName": "Shivansh Kaushal",
      "userId": "00410086506157610457"
     },
     "user_tz": -330
    },
    "id": "r7XkDkLqglLQ",
    "outputId": "a97198db-24c1-4002-9d9f-9c2def38b715"
   },
   "outputs": [
    {
     "data": {
      "text/plain": [
       "(614, 12)"
      ]
     },
     "execution_count": 11,
     "metadata": {},
     "output_type": "execute_result"
    }
   ],
   "source": [
    "# looking at the shape of the data\n",
    "data.shape"
   ]
  },
  {
   "cell_type": "code",
   "execution_count": 12,
   "metadata": {
    "executionInfo": {
     "elapsed": 8,
     "status": "ok",
     "timestamp": 1698923365052,
     "user": {
      "displayName": "Shivansh Kaushal",
      "userId": "00410086506157610457"
     },
     "user_tz": -330
    },
    "id": "wy5U75eiglLZ"
   },
   "outputs": [],
   "source": [
    "# separating the independent and dependent variables\n",
    "\n",
    "# storing all the independent variables as X\n",
    "X = data.drop('Loan_Status', axis=1)\n",
    "\n",
    "# storing the dependent variable as y\n",
    "y = data['Loan_Status']"
   ]
  },
  {
   "cell_type": "code",
   "execution_count": 13,
   "metadata": {
    "colab": {
     "base_uri": "https://localhost:8080/"
    },
    "executionInfo": {
     "elapsed": 7,
     "status": "ok",
     "timestamp": 1698923365052,
     "user": {
      "displayName": "Shivansh Kaushal",
      "userId": "00410086506157610457"
     },
     "user_tz": -330
    },
    "id": "73Z_cXPVglLi",
    "outputId": "7e3a8e9c-44db-4ace-9c6e-42c2e88784ff",
    "scrolled": true
   },
   "outputs": [
    {
     "data": {
      "text/plain": [
       "((614, 11), (614,))"
      ]
     },
     "execution_count": 13,
     "metadata": {},
     "output_type": "execute_result"
    }
   ],
   "source": [
    "# shape of independent and dependent variables\n",
    "X.shape, y.shape"
   ]
  },
  {
   "cell_type": "markdown",
   "metadata": {
    "id": "2tIAIoEZglLr"
   },
   "source": [
    "## 2. Creating training and validation set"
   ]
  },
  {
   "cell_type": "code",
   "execution_count": 14,
   "metadata": {
    "executionInfo": {
     "elapsed": 6,
     "status": "ok",
     "timestamp": 1698923365052,
     "user": {
      "displayName": "Shivansh Kaushal",
      "userId": "00410086506157610457"
     },
     "user_tz": -330
    },
    "id": "4jvMxwYZglLu"
   },
   "outputs": [],
   "source": [
    "# Creating training and validation set\n",
    "\n",
    "# stratify will make sure that the distribution of classes in train and validation set it similar\n",
    "# random state to regenerate the same train and validation set\n",
    "# test size 0.2 will keep 20% data in validation and remaining 80% in train set\n",
    "\n",
    "X_train,X_test,y_train,y_test = train_test_split(X,y,stratify=data['Loan_Status'],random_state=10,test_size=0.2)"
   ]
  },
  {
   "cell_type": "code",
   "execution_count": 15,
   "metadata": {
    "colab": {
     "base_uri": "https://localhost:8080/"
    },
    "executionInfo": {
     "elapsed": 6,
     "status": "ok",
     "timestamp": 1698923365052,
     "user": {
      "displayName": "Shivansh Kaushal",
      "userId": "00410086506157610457"
     },
     "user_tz": -330
    },
    "id": "3HG0SIb2glL3",
    "outputId": "05ececc3-2793-4c29-eff7-b1db06586122"
   },
   "outputs": [
    {
     "data": {
      "text/plain": [
       "(((491, 11), (491,)), ((123, 11), (123,)))"
      ]
     },
     "execution_count": 15,
     "metadata": {},
     "output_type": "execute_result"
    }
   ],
   "source": [
    "# shape of training and validation set\n",
    "(X_train.shape, y_train.shape), (X_test.shape, y_test.shape)"
   ]
  },
  {
   "cell_type": "markdown",
   "metadata": {
    "id": "e9PNy3T1glL_"
   },
   "source": [
    "## 3. Defining the architecture of the model"
   ]
  },
  {
   "cell_type": "code",
   "execution_count": 16,
   "metadata": {
    "colab": {
     "base_uri": "https://localhost:8080/"
    },
    "executionInfo": {
     "elapsed": 2291,
     "status": "ok",
     "timestamp": 1698923367338,
     "user": {
      "displayName": "Shivansh Kaushal",
      "userId": "00410086506157610457"
     },
     "user_tz": -330
    },
    "id": "IsccfqUYglMC",
    "outputId": "1e226240-7d79-4791-c77f-9bd75d3e489c",
    "scrolled": true
   },
   "outputs": [
    {
     "name": "stdout",
     "output_type": "stream",
     "text": [
      "WARNING:tensorflow:From C:\\Users\\Disha\\anaconda3\\Lib\\site-packages\\keras\\src\\losses.py:2976: The name tf.losses.sparse_softmax_cross_entropy is deprecated. Please use tf.compat.v1.losses.sparse_softmax_cross_entropy instead.\n",
      "\n",
      "2.15.0\n"
     ]
    }
   ],
   "source": [
    "# checking the version of keras\n",
    "import keras\n",
    "print(keras.__version__)"
   ]
  },
  {
   "cell_type": "code",
   "execution_count": 17,
   "metadata": {
    "colab": {
     "base_uri": "https://localhost:8080/"
    },
    "executionInfo": {
     "elapsed": 13,
     "status": "ok",
     "timestamp": 1698923367338,
     "user": {
      "displayName": "Shivansh Kaushal",
      "userId": "00410086506157610457"
     },
     "user_tz": -330
    },
    "id": "XMLvwm5wglMK",
    "outputId": "f248ae19-0041-47c9-fc94-b3a9d964ea0d"
   },
   "outputs": [
    {
     "name": "stdout",
     "output_type": "stream",
     "text": [
      "2.15.0\n"
     ]
    }
   ],
   "source": [
    "# checking the version of tensorflow\n",
    "import tensorflow as tf\n",
    "print(tf.__version__)"
   ]
  },
  {
   "cell_type": "code",
   "execution_count": 18,
   "metadata": {
    "executionInfo": {
     "elapsed": 10,
     "status": "ok",
     "timestamp": 1698923367338,
     "user": {
      "displayName": "Shivansh Kaushal",
      "userId": "00410086506157610457"
     },
     "user_tz": -330
    },
    "id": "O-Pl7OO8glMT"
   },
   "outputs": [],
   "source": [
    "# importing the sequential model\n",
    "from keras.models import Sequential"
   ]
  },
  {
   "cell_type": "code",
   "execution_count": 19,
   "metadata": {
    "executionInfo": {
     "elapsed": 11,
     "status": "ok",
     "timestamp": 1698923367339,
     "user": {
      "displayName": "Shivansh Kaushal",
      "userId": "00410086506157610457"
     },
     "user_tz": -330
    },
    "id": "NDU-YCD0glMb",
    "scrolled": true
   },
   "outputs": [],
   "source": [
    "# importing different layers from keras\n",
    "from keras.layers import InputLayer, Dense"
   ]
  },
  {
   "cell_type": "code",
   "execution_count": 20,
   "metadata": {
    "colab": {
     "base_uri": "https://localhost:8080/"
    },
    "executionInfo": {
     "elapsed": 11,
     "status": "ok",
     "timestamp": 1698923367339,
     "user": {
      "displayName": "Shivansh Kaushal",
      "userId": "00410086506157610457"
     },
     "user_tz": -330
    },
    "id": "xtOwk66BglMl",
    "outputId": "5218c232-6bbd-4592-bff9-483270d173d1"
   },
   "outputs": [
    {
     "data": {
      "text/plain": [
       "(491, 11)"
      ]
     },
     "execution_count": 20,
     "metadata": {},
     "output_type": "execute_result"
    }
   ],
   "source": [
    "# number of input neurons\n",
    "X_train.shape"
   ]
  },
  {
   "cell_type": "code",
   "execution_count": 21,
   "metadata": {
    "colab": {
     "base_uri": "https://localhost:8080/"
    },
    "executionInfo": {
     "elapsed": 8,
     "status": "ok",
     "timestamp": 1698923367339,
     "user": {
      "displayName": "Shivansh Kaushal",
      "userId": "00410086506157610457"
     },
     "user_tz": -330
    },
    "id": "dA2TqMbsglMq",
    "outputId": "ed9668f9-6116-4f23-cfc9-f4bd94c70c59",
    "scrolled": true
   },
   "outputs": [
    {
     "data": {
      "text/plain": [
       "11"
      ]
     },
     "execution_count": 21,
     "metadata": {},
     "output_type": "execute_result"
    }
   ],
   "source": [
    "# number of features in the data\n",
    "X_train.shape[1]"
   ]
  },
  {
   "cell_type": "code",
   "execution_count": 22,
   "metadata": {
    "executionInfo": {
     "elapsed": 6,
     "status": "ok",
     "timestamp": 1698923367339,
     "user": {
      "displayName": "Shivansh Kaushal",
      "userId": "00410086506157610457"
     },
     "user_tz": -330
    },
    "id": "ajgIDiLSglMx"
   },
   "outputs": [],
   "source": [
    "# defining input neurons\n",
    "input_neurons = X_train.shape[1]"
   ]
  },
  {
   "cell_type": "code",
   "execution_count": 23,
   "metadata": {
    "executionInfo": {
     "elapsed": 5,
     "status": "ok",
     "timestamp": 1698923367339,
     "user": {
      "displayName": "Shivansh Kaushal",
      "userId": "00410086506157610457"
     },
     "user_tz": -330
    },
    "id": "fu76LxuVglM6"
   },
   "outputs": [],
   "source": [
    "# number of output neurons\n",
    "\n",
    "# since loan prediction is a binary classification problem, we will have single neuron in the output layer"
   ]
  },
  {
   "cell_type": "code",
   "execution_count": 24,
   "metadata": {
    "executionInfo": {
     "elapsed": 5,
     "status": "ok",
     "timestamp": 1698923367339,
     "user": {
      "displayName": "Shivansh Kaushal",
      "userId": "00410086506157610457"
     },
     "user_tz": -330
    },
    "id": "taMhxkl4glNB"
   },
   "outputs": [],
   "source": [
    "# define number of output neurons\n",
    "output_neurons = 1"
   ]
  },
  {
   "cell_type": "code",
   "execution_count": 25,
   "metadata": {
    "executionInfo": {
     "elapsed": 5,
     "status": "ok",
     "timestamp": 1698923367339,
     "user": {
      "displayName": "Shivansh Kaushal",
      "userId": "00410086506157610457"
     },
     "user_tz": -330
    },
    "id": "cHsm2c7kglNF"
   },
   "outputs": [],
   "source": [
    "# number of hidden layers and hidden neurons\n",
    "\n",
    "# It is a hyperparameter and we can pick the hidden layers and hidden neurons on our own"
   ]
  },
  {
   "cell_type": "code",
   "execution_count": 26,
   "metadata": {
    "executionInfo": {
     "elapsed": 856,
     "status": "ok",
     "timestamp": 1698923368190,
     "user": {
      "displayName": "Shivansh Kaushal",
      "userId": "00410086506157610457"
     },
     "user_tz": -330
    },
    "id": "sMqdeXysqztM"
   },
   "outputs": [],
   "source": [
    "# define hidden layers and neuron in each layer\n",
    "number_of_hidden_layers = 2\n",
    "neuron_hidden_layer_1 = 10\n",
    "neuron_hidden_layer_2 = 5"
   ]
  },
  {
   "cell_type": "code",
   "execution_count": 27,
   "metadata": {
    "executionInfo": {
     "elapsed": 4,
     "status": "ok",
     "timestamp": 1698923368190,
     "user": {
      "displayName": "Shivansh Kaushal",
      "userId": "00410086506157610457"
     },
     "user_tz": -330
    },
    "id": "HKTCB3K1glNQ"
   },
   "outputs": [],
   "source": [
    "# activation function of different layers\n",
    "\n",
    "# for now I have picked relu as an activation function for hidden layers, you can change it as well\n",
    "# since it is a binary classification problem, I have used sigmoid activation function in the final layer"
   ]
  },
  {
   "cell_type": "code",
   "execution_count": 28,
   "metadata": {
    "executionInfo": {
     "elapsed": 2833,
     "status": "ok",
     "timestamp": 1698923371019,
     "user": {
      "displayName": "Shivansh Kaushal",
      "userId": "00410086506157610457"
     },
     "user_tz": -330
    },
    "id": "lJeV8sQyq1rj"
   },
   "outputs": [
    {
     "name": "stdout",
     "output_type": "stream",
     "text": [
      "WARNING:tensorflow:From C:\\Users\\Disha\\anaconda3\\Lib\\site-packages\\keras\\src\\backend.py:873: The name tf.get_default_graph is deprecated. Please use tf.compat.v1.get_default_graph instead.\n",
      "\n"
     ]
    }
   ],
   "source": [
    "# defining the architecture of the model\n",
    "model = Sequential()\n",
    "model.add(InputLayer(input_shape=(input_neurons,)))\n",
    "model.add(Dense(units=neuron_hidden_layer_1, activation='relu'))\n",
    "model.add(Dense(units=neuron_hidden_layer_2, activation='relu'))\n",
    "model.add(Dense(units=output_neurons, activation='sigmoid'))"
   ]
  },
  {
   "cell_type": "code",
   "execution_count": 29,
   "metadata": {
    "colab": {
     "base_uri": "https://localhost:8080/"
    },
    "executionInfo": {
     "elapsed": 17,
     "status": "ok",
     "timestamp": 1698923371019,
     "user": {
      "displayName": "Shivansh Kaushal",
      "userId": "00410086506157610457"
     },
     "user_tz": -330
    },
    "id": "E9tXg_08q3n0",
    "outputId": "b51cee47-15f9-4ddc-ff02-2ec76073c73b"
   },
   "outputs": [
    {
     "name": "stdout",
     "output_type": "stream",
     "text": [
      "Model: \"sequential\"\n",
      "_________________________________________________________________\n",
      " Layer (type)                Output Shape              Param #   \n",
      "=================================================================\n",
      " dense (Dense)               (None, 10)                120       \n",
      "                                                                 \n",
      " dense_1 (Dense)             (None, 5)                 55        \n",
      "                                                                 \n",
      " dense_2 (Dense)             (None, 1)                 6         \n",
      "                                                                 \n",
      "=================================================================\n",
      "Total params: 181 (724.00 Byte)\n",
      "Trainable params: 181 (724.00 Byte)\n",
      "Non-trainable params: 0 (0.00 Byte)\n",
      "_________________________________________________________________\n"
     ]
    }
   ],
   "source": [
    "# summary of the model\n",
    "model.summary()"
   ]
  },
  {
   "cell_type": "code",
   "execution_count": 30,
   "metadata": {
    "colab": {
     "base_uri": "https://localhost:8080/"
    },
    "executionInfo": {
     "elapsed": 13,
     "status": "ok",
     "timestamp": 1698923371020,
     "user": {
      "displayName": "Shivansh Kaushal",
      "userId": "00410086506157610457"
     },
     "user_tz": -330
    },
    "id": "PnsVNEbZglNf",
    "outputId": "40feef12-a009-4a83-825e-55234fbb6ede"
   },
   "outputs": [
    {
     "data": {
      "text/plain": [
       "110"
      ]
     },
     "execution_count": 30,
     "metadata": {},
     "output_type": "execute_result"
    }
   ],
   "source": [
    "# number of parameters between input and first hidden layer\n",
    "\n",
    "input_neurons*neuron_hidden_layer_1"
   ]
  },
  {
   "cell_type": "code",
   "execution_count": 31,
   "metadata": {
    "colab": {
     "base_uri": "https://localhost:8080/"
    },
    "executionInfo": {
     "elapsed": 10,
     "status": "ok",
     "timestamp": 1698923371020,
     "user": {
      "displayName": "Shivansh Kaushal",
      "userId": "00410086506157610457"
     },
     "user_tz": -330
    },
    "id": "npisFmvIglNl",
    "outputId": "67a1f4aa-bb66-454c-e420-5e65d8f0b64c",
    "scrolled": true
   },
   "outputs": [
    {
     "data": {
      "text/plain": [
       "120"
      ]
     },
     "execution_count": 31,
     "metadata": {},
     "output_type": "execute_result"
    }
   ],
   "source": [
    "# number of parameters between input and first hidden layer\n",
    "\n",
    "# adding the bias for each neuron of first hidden layer\n",
    "\n",
    "input_neurons*neuron_hidden_layer_1 + 10"
   ]
  },
  {
   "cell_type": "code",
   "execution_count": 32,
   "metadata": {
    "colab": {
     "base_uri": "https://localhost:8080/"
    },
    "executionInfo": {
     "elapsed": 8,
     "status": "ok",
     "timestamp": 1698923371020,
     "user": {
      "displayName": "Shivansh Kaushal",
      "userId": "00410086506157610457"
     },
     "user_tz": -330
    },
    "id": "j37Xpr-8glNq",
    "outputId": "0b7ce70e-030e-4fe7-ec41-97c96b2758b2"
   },
   "outputs": [
    {
     "data": {
      "text/plain": [
       "55"
      ]
     },
     "execution_count": 32,
     "metadata": {},
     "output_type": "execute_result"
    }
   ],
   "source": [
    "# number of parameters between first and second hidden layer\n",
    "\n",
    "neuron_hidden_layer_1*neuron_hidden_layer_2 + 5"
   ]
  },
  {
   "cell_type": "code",
   "execution_count": 33,
   "metadata": {
    "colab": {
     "base_uri": "https://localhost:8080/"
    },
    "executionInfo": {
     "elapsed": 6,
     "status": "ok",
     "timestamp": 1698923371020,
     "user": {
      "displayName": "Shivansh Kaushal",
      "userId": "00410086506157610457"
     },
     "user_tz": -330
    },
    "id": "UXrvaFnXglNu",
    "outputId": "d07db18d-0c82-4ebe-e109-06cc060a6380"
   },
   "outputs": [
    {
     "data": {
      "text/plain": [
       "6"
      ]
     },
     "execution_count": 33,
     "metadata": {},
     "output_type": "execute_result"
    }
   ],
   "source": [
    "# number of parameters between second hidden and output layer\n",
    "\n",
    "neuron_hidden_layer_2*output_neurons + 1"
   ]
  },
  {
   "cell_type": "markdown",
   "metadata": {
    "id": "xm1bbbE_glNz"
   },
   "source": [
    "## 4. Compiling the model (defining loss function, optimizer)"
   ]
  },
  {
   "cell_type": "code",
   "execution_count": 34,
   "metadata": {
    "executionInfo": {
     "elapsed": 5,
     "status": "ok",
     "timestamp": 1698923371020,
     "user": {
      "displayName": "Shivansh Kaushal",
      "userId": "00410086506157610457"
     },
     "user_tz": -330
    },
    "id": "P6hqkDWIglN0"
   },
   "outputs": [
    {
     "name": "stdout",
     "output_type": "stream",
     "text": [
      "WARNING:tensorflow:From C:\\Users\\Disha\\anaconda3\\Lib\\site-packages\\keras\\src\\optimizers\\__init__.py:309: The name tf.train.Optimizer is deprecated. Please use tf.compat.v1.train.Optimizer instead.\n",
      "\n"
     ]
    }
   ],
   "source": [
    "# compiling the model\n",
    "\n",
    "# loss as binary_crossentropy, since we have binary classification problem\n",
    "# defining the optimizer as adam\n",
    "# Evaluation metric as accuracy\n",
    "\n",
    "model.compile(loss='binary_crossentropy',optimizer='Adam',metrics=['accuracy'])"
   ]
  },
  {
   "cell_type": "markdown",
   "metadata": {
    "id": "T1oVMpRMglN5"
   },
   "source": [
    "## 5. Training the model"
   ]
  },
  {
   "cell_type": "code",
   "execution_count": 35,
   "metadata": {
    "colab": {
     "base_uri": "https://localhost:8080/"
    },
    "executionInfo": {
     "elapsed": 20157,
     "status": "ok",
     "timestamp": 1698923391172,
     "user": {
      "displayName": "Shivansh Kaushal",
      "userId": "00410086506157610457"
     },
     "user_tz": -330
    },
    "id": "pViJI3-TglN6",
    "outputId": "85be735c-20d8-4b57-8686-ca031e94eb9f"
   },
   "outputs": [
    {
     "name": "stdout",
     "output_type": "stream",
     "text": [
      "Epoch 1/50\n",
      "WARNING:tensorflow:From C:\\Users\\Disha\\anaconda3\\Lib\\site-packages\\keras\\src\\utils\\tf_utils.py:492: The name tf.ragged.RaggedTensorValue is deprecated. Please use tf.compat.v1.ragged.RaggedTensorValue instead.\n",
      "\n",
      "WARNING:tensorflow:From C:\\Users\\Disha\\anaconda3\\Lib\\site-packages\\keras\\src\\engine\\base_layer_utils.py:384: The name tf.executing_eagerly_outside_functions is deprecated. Please use tf.compat.v1.executing_eagerly_outside_functions instead.\n",
      "\n",
      "16/16 [==============================] - 2s 31ms/step - loss: 0.6910 - accuracy: 0.5031 - val_loss: 0.6853 - val_accuracy: 0.6585\n",
      "Epoch 2/50\n",
      "16/16 [==============================] - 0s 9ms/step - loss: 0.6771 - accuracy: 0.7189 - val_loss: 0.6718 - val_accuracy: 0.6829\n",
      "Epoch 3/50\n",
      "16/16 [==============================] - 0s 10ms/step - loss: 0.6659 - accuracy: 0.7006 - val_loss: 0.6593 - val_accuracy: 0.6829\n",
      "Epoch 4/50\n",
      "16/16 [==============================] - 0s 10ms/step - loss: 0.6550 - accuracy: 0.7169 - val_loss: 0.6490 - val_accuracy: 0.6829\n",
      "Epoch 5/50\n",
      "16/16 [==============================] - 0s 8ms/step - loss: 0.6449 - accuracy: 0.7088 - val_loss: 0.6386 - val_accuracy: 0.6911\n",
      "Epoch 6/50\n",
      "16/16 [==============================] - 0s 9ms/step - loss: 0.6340 - accuracy: 0.7067 - val_loss: 0.6272 - val_accuracy: 0.6911\n",
      "Epoch 7/50\n",
      "16/16 [==============================] - 0s 8ms/step - loss: 0.6235 - accuracy: 0.6945 - val_loss: 0.6167 - val_accuracy: 0.6911\n",
      "Epoch 8/50\n",
      "16/16 [==============================] - 0s 8ms/step - loss: 0.6143 - accuracy: 0.6864 - val_loss: 0.6070 - val_accuracy: 0.6911\n",
      "Epoch 9/50\n",
      "16/16 [==============================] - 0s 8ms/step - loss: 0.6054 - accuracy: 0.6864 - val_loss: 0.5981 - val_accuracy: 0.6992\n",
      "Epoch 10/50\n",
      "16/16 [==============================] - 0s 8ms/step - loss: 0.5961 - accuracy: 0.6925 - val_loss: 0.5885 - val_accuracy: 0.6992\n",
      "Epoch 11/50\n",
      "16/16 [==============================] - 0s 8ms/step - loss: 0.5856 - accuracy: 0.7047 - val_loss: 0.5788 - val_accuracy: 0.7073\n",
      "Epoch 12/50\n",
      "16/16 [==============================] - 0s 9ms/step - loss: 0.5747 - accuracy: 0.7210 - val_loss: 0.5701 - val_accuracy: 0.7154\n",
      "Epoch 13/50\n",
      "16/16 [==============================] - 0s 8ms/step - loss: 0.5639 - accuracy: 0.7413 - val_loss: 0.5610 - val_accuracy: 0.7236\n",
      "Epoch 14/50\n",
      "16/16 [==============================] - 0s 10ms/step - loss: 0.5534 - accuracy: 0.7699 - val_loss: 0.5515 - val_accuracy: 0.7805\n",
      "Epoch 15/50\n",
      "16/16 [==============================] - 0s 10ms/step - loss: 0.5426 - accuracy: 0.8065 - val_loss: 0.5432 - val_accuracy: 0.7967\n",
      "Epoch 16/50\n",
      "16/16 [==============================] - 0s 9ms/step - loss: 0.5337 - accuracy: 0.8106 - val_loss: 0.5344 - val_accuracy: 0.7967\n",
      "Epoch 17/50\n",
      "16/16 [==============================] - 0s 9ms/step - loss: 0.5249 - accuracy: 0.8126 - val_loss: 0.5277 - val_accuracy: 0.8130\n",
      "Epoch 18/50\n",
      "16/16 [==============================] - 0s 7ms/step - loss: 0.5163 - accuracy: 0.8126 - val_loss: 0.5195 - val_accuracy: 0.8130\n",
      "Epoch 19/50\n",
      "16/16 [==============================] - 0s 8ms/step - loss: 0.5100 - accuracy: 0.8126 - val_loss: 0.5132 - val_accuracy: 0.8130\n",
      "Epoch 20/50\n",
      "16/16 [==============================] - 0s 9ms/step - loss: 0.5023 - accuracy: 0.8126 - val_loss: 0.5082 - val_accuracy: 0.8130\n",
      "Epoch 21/50\n",
      "16/16 [==============================] - 0s 9ms/step - loss: 0.4970 - accuracy: 0.8126 - val_loss: 0.5035 - val_accuracy: 0.8130\n",
      "Epoch 22/50\n",
      "16/16 [==============================] - 0s 7ms/step - loss: 0.4923 - accuracy: 0.8126 - val_loss: 0.4999 - val_accuracy: 0.8130\n",
      "Epoch 23/50\n",
      "16/16 [==============================] - 0s 8ms/step - loss: 0.4879 - accuracy: 0.8126 - val_loss: 0.4950 - val_accuracy: 0.8130\n",
      "Epoch 24/50\n",
      "16/16 [==============================] - 0s 7ms/step - loss: 0.4841 - accuracy: 0.8126 - val_loss: 0.4928 - val_accuracy: 0.8130\n",
      "Epoch 25/50\n",
      "16/16 [==============================] - 0s 7ms/step - loss: 0.4813 - accuracy: 0.8126 - val_loss: 0.4900 - val_accuracy: 0.8130\n",
      "Epoch 26/50\n",
      "16/16 [==============================] - 0s 7ms/step - loss: 0.4786 - accuracy: 0.8126 - val_loss: 0.4874 - val_accuracy: 0.8130\n",
      "Epoch 27/50\n",
      "16/16 [==============================] - 0s 9ms/step - loss: 0.4760 - accuracy: 0.8126 - val_loss: 0.4860 - val_accuracy: 0.8130\n",
      "Epoch 28/50\n",
      "16/16 [==============================] - 0s 8ms/step - loss: 0.4735 - accuracy: 0.8126 - val_loss: 0.4843 - val_accuracy: 0.8130\n",
      "Epoch 29/50\n",
      "16/16 [==============================] - 0s 10ms/step - loss: 0.4722 - accuracy: 0.8126 - val_loss: 0.4833 - val_accuracy: 0.8130\n",
      "Epoch 30/50\n",
      "16/16 [==============================] - 0s 7ms/step - loss: 0.4701 - accuracy: 0.8126 - val_loss: 0.4823 - val_accuracy: 0.8130\n",
      "Epoch 31/50\n",
      "16/16 [==============================] - 0s 8ms/step - loss: 0.4689 - accuracy: 0.8126 - val_loss: 0.4817 - val_accuracy: 0.8130\n",
      "Epoch 32/50\n",
      "16/16 [==============================] - 0s 9ms/step - loss: 0.4679 - accuracy: 0.8126 - val_loss: 0.4799 - val_accuracy: 0.8130\n",
      "Epoch 33/50\n",
      "16/16 [==============================] - 0s 8ms/step - loss: 0.4666 - accuracy: 0.8126 - val_loss: 0.4799 - val_accuracy: 0.8130\n",
      "Epoch 34/50\n",
      "16/16 [==============================] - 0s 10ms/step - loss: 0.4656 - accuracy: 0.8126 - val_loss: 0.4786 - val_accuracy: 0.8130\n",
      "Epoch 35/50\n",
      "16/16 [==============================] - 0s 10ms/step - loss: 0.4646 - accuracy: 0.8126 - val_loss: 0.4780 - val_accuracy: 0.8130\n",
      "Epoch 36/50\n",
      "16/16 [==============================] - 0s 8ms/step - loss: 0.4641 - accuracy: 0.8126 - val_loss: 0.4780 - val_accuracy: 0.8130\n",
      "Epoch 37/50\n",
      "16/16 [==============================] - 0s 8ms/step - loss: 0.4634 - accuracy: 0.8126 - val_loss: 0.4777 - val_accuracy: 0.8130\n",
      "Epoch 38/50\n",
      "16/16 [==============================] - 0s 8ms/step - loss: 0.4635 - accuracy: 0.8126 - val_loss: 0.4781 - val_accuracy: 0.8130\n",
      "Epoch 39/50\n",
      "16/16 [==============================] - 0s 10ms/step - loss: 0.4619 - accuracy: 0.8126 - val_loss: 0.4772 - val_accuracy: 0.8130\n",
      "Epoch 40/50\n",
      "16/16 [==============================] - 0s 8ms/step - loss: 0.4616 - accuracy: 0.8126 - val_loss: 0.4768 - val_accuracy: 0.8130\n",
      "Epoch 41/50\n",
      "16/16 [==============================] - 0s 9ms/step - loss: 0.4619 - accuracy: 0.8126 - val_loss: 0.4762 - val_accuracy: 0.8130\n",
      "Epoch 42/50\n",
      "16/16 [==============================] - 0s 9ms/step - loss: 0.4606 - accuracy: 0.8126 - val_loss: 0.4773 - val_accuracy: 0.8130\n",
      "Epoch 43/50\n",
      "16/16 [==============================] - 0s 7ms/step - loss: 0.4603 - accuracy: 0.8126 - val_loss: 0.4762 - val_accuracy: 0.8130\n",
      "Epoch 44/50\n",
      "16/16 [==============================] - 0s 7ms/step - loss: 0.4598 - accuracy: 0.8126 - val_loss: 0.4755 - val_accuracy: 0.8130\n",
      "Epoch 45/50\n",
      "16/16 [==============================] - 0s 7ms/step - loss: 0.4596 - accuracy: 0.8126 - val_loss: 0.4769 - val_accuracy: 0.8130\n",
      "Epoch 46/50\n",
      "16/16 [==============================] - 0s 10ms/step - loss: 0.4593 - accuracy: 0.8126 - val_loss: 0.4763 - val_accuracy: 0.8130\n",
      "Epoch 47/50\n",
      "16/16 [==============================] - 0s 10ms/step - loss: 0.4592 - accuracy: 0.8126 - val_loss: 0.4751 - val_accuracy: 0.8130\n",
      "Epoch 48/50\n",
      "16/16 [==============================] - 0s 7ms/step - loss: 0.4586 - accuracy: 0.8126 - val_loss: 0.4756 - val_accuracy: 0.8130\n",
      "Epoch 49/50\n",
      "16/16 [==============================] - 0s 8ms/step - loss: 0.4583 - accuracy: 0.8126 - val_loss: 0.4763 - val_accuracy: 0.8130\n",
      "Epoch 50/50\n",
      "16/16 [==============================] - 0s 9ms/step - loss: 0.4575 - accuracy: 0.8126 - val_loss: 0.4762 - val_accuracy: 0.8130\n"
     ]
    }
   ],
   "source": [
    "# training the model\n",
    "\n",
    "# passing the independent and dependent features for training set for training the model\n",
    "\n",
    "# validation data will be evaluated at the end of each epoch\n",
    "\n",
    "# setting the epochs as 50\n",
    "\n",
    "# storing the trained model in model_history variable which will be used to visualize the training process\n",
    "\n",
    "model_history = model.fit(X_train, y_train, validation_data=(X_test, y_test), epochs=50)"
   ]
  },
  {
   "cell_type": "markdown",
   "metadata": {
    "id": "hBZ_3aumglN9"
   },
   "source": [
    "## 6. Evaluating model performance on validation set"
   ]
  },
  {
   "cell_type": "code",
   "execution_count": 36,
   "metadata": {
    "colab": {
     "base_uri": "https://localhost:8080/"
    },
    "executionInfo": {
     "elapsed": 12,
     "status": "ok",
     "timestamp": 1698923391777,
     "user": {
      "displayName": "Shivansh Kaushal",
      "userId": "00410086506157610457"
     },
     "user_tz": -330
    },
    "id": "qpBoHi7jglN_",
    "outputId": "bb0198f0-8836-40f7-9ba7-79a246b3e433"
   },
   "outputs": [
    {
     "name": "stdout",
     "output_type": "stream",
     "text": [
      "4/4 [==============================] - 0s 3ms/step\n"
     ]
    }
   ],
   "source": [
    "# getting predictions for the validation set\n",
    "prediction = model.predict(X_test)"
   ]
  },
  {
   "cell_type": "code",
   "execution_count": 38,
   "metadata": {
    "executionInfo": {
     "elapsed": 8,
     "status": "ok",
     "timestamp": 1698923391777,
     "user": {
      "displayName": "Shivansh Kaushal",
      "userId": "00410086506157610457"
     },
     "user_tz": -330
    },
    "id": "S_ERn4FQs480"
   },
   "outputs": [],
   "source": [
    "prediction = np.where(prediction<0.5,0,1)"
   ]
  },
  {
   "cell_type": "code",
   "execution_count": 40,
   "metadata": {
    "executionInfo": {
     "elapsed": 9,
     "status": "ok",
     "timestamp": 1698923391778,
     "user": {
      "displayName": "Shivansh Kaushal",
      "userId": "00410086506157610457"
     },
     "user_tz": -330
    },
    "id": "LTnpabort75C"
   },
   "outputs": [
    {
     "data": {
      "text/plain": [
       "array([[1],\n",
       "       [1],\n",
       "       [1],\n",
       "       [1],\n",
       "       [1],\n",
       "       [1],\n",
       "       [1],\n",
       "       [1],\n",
       "       [1],\n",
       "       [1],\n",
       "       [1],\n",
       "       [1],\n",
       "       [1],\n",
       "       [1],\n",
       "       [1],\n",
       "       [1],\n",
       "       [1],\n",
       "       [1],\n",
       "       [1],\n",
       "       [1],\n",
       "       [1],\n",
       "       [1],\n",
       "       [1],\n",
       "       [1],\n",
       "       [1],\n",
       "       [1],\n",
       "       [1],\n",
       "       [1],\n",
       "       [1],\n",
       "       [1],\n",
       "       [1],\n",
       "       [1],\n",
       "       [1],\n",
       "       [0],\n",
       "       [0],\n",
       "       [0],\n",
       "       [1],\n",
       "       [1],\n",
       "       [1],\n",
       "       [1],\n",
       "       [1],\n",
       "       [1],\n",
       "       [1],\n",
       "       [1],\n",
       "       [0],\n",
       "       [1],\n",
       "       [1],\n",
       "       [1],\n",
       "       [1],\n",
       "       [0],\n",
       "       [1],\n",
       "       [1],\n",
       "       [1],\n",
       "       [1],\n",
       "       [1],\n",
       "       [0],\n",
       "       [1],\n",
       "       [1],\n",
       "       [0],\n",
       "       [1],\n",
       "       [1],\n",
       "       [1],\n",
       "       [1],\n",
       "       [1],\n",
       "       [1],\n",
       "       [1],\n",
       "       [1],\n",
       "       [0],\n",
       "       [1],\n",
       "       [1],\n",
       "       [0],\n",
       "       [1],\n",
       "       [1],\n",
       "       [1],\n",
       "       [1],\n",
       "       [1],\n",
       "       [1],\n",
       "       [1],\n",
       "       [1],\n",
       "       [0],\n",
       "       [1],\n",
       "       [1],\n",
       "       [1],\n",
       "       [1],\n",
       "       [1],\n",
       "       [0],\n",
       "       [1],\n",
       "       [1],\n",
       "       [1],\n",
       "       [1],\n",
       "       [1],\n",
       "       [1],\n",
       "       [1],\n",
       "       [0],\n",
       "       [1],\n",
       "       [1],\n",
       "       [1],\n",
       "       [0],\n",
       "       [1],\n",
       "       [1],\n",
       "       [1],\n",
       "       [1],\n",
       "       [1],\n",
       "       [1],\n",
       "       [1],\n",
       "       [1],\n",
       "       [1],\n",
       "       [1],\n",
       "       [1],\n",
       "       [1],\n",
       "       [0],\n",
       "       [1],\n",
       "       [1],\n",
       "       [0],\n",
       "       [0],\n",
       "       [1],\n",
       "       [1],\n",
       "       [1],\n",
       "       [1],\n",
       "       [1],\n",
       "       [1],\n",
       "       [0],\n",
       "       [1]])"
      ]
     },
     "execution_count": 40,
     "metadata": {},
     "output_type": "execute_result"
    }
   ],
   "source": [
    "prediction"
   ]
  },
  {
   "cell_type": "code",
   "execution_count": 39,
   "metadata": {
    "colab": {
     "base_uri": "https://localhost:8080/"
    },
    "executionInfo": {
     "elapsed": 8,
     "status": "ok",
     "timestamp": 1698923391778,
     "user": {
      "displayName": "Shivansh Kaushal",
      "userId": "00410086506157610457"
     },
     "user_tz": -330
    },
    "id": "jMapdscmglOD",
    "outputId": "fd82c53f-ba14-491f-dac4-49efe61edcec"
   },
   "outputs": [
    {
     "data": {
      "text/plain": [
       "0.8130081300813008"
      ]
     },
     "execution_count": 39,
     "metadata": {},
     "output_type": "execute_result"
    }
   ],
   "source": [
    "# calculating the accuracy on validation set\n",
    "accuracy_score(y_test, prediction)"
   ]
  },
  {
   "cell_type": "markdown",
   "metadata": {
    "id": "rLvGzvLcglOH"
   },
   "source": [
    "### Visualizing the model performance"
   ]
  },
  {
   "cell_type": "code",
   "execution_count": 37,
   "metadata": {
    "colab": {
     "base_uri": "https://localhost:8080/",
     "height": 472
    },
    "executionInfo": {
     "elapsed": 917,
     "status": "ok",
     "timestamp": 1698923392690,
     "user": {
      "displayName": "Shivansh Kaushal",
      "userId": "00410086506157610457"
     },
     "user_tz": -330
    },
    "id": "68APv0UuglOI",
    "outputId": "512f6191-a5be-4fc5-d265-082adfbaa22d"
   },
   "outputs": [
    {
     "data": {
      "image/png": "[encoded data removed]",
      "text/plain": [
       "<Figure size 640x480 with 1 Axes>"
      ]
     },
     "metadata": {},
     "output_type": "display_data"
    }
   ],
   "source": [
    "# summarize history for loss\n",
    "plt.plot(model_history.history['loss'])\n",
    "plt.plot(model_history.history['val_loss'])\n",
    "plt.title('model loss')\n",
    "plt.ylabel('loss')\n",
    "plt.xlabel('epoch')\n",
    "plt.legend(['train', 'validation'], loc='upper left')\n",
    "plt.show()"
   ]
  },
  {
   "cell_type": "code",
   "execution_count": 38,
   "metadata": {
    "colab": {
     "base_uri": "https://localhost:8080/",
     "height": 472
    },
    "executionInfo": {
     "elapsed": 940,
     "status": "ok",
     "timestamp": 1698923393622,
     "user": {
      "displayName": "Shivansh Kaushal",
      "userId": "00410086506157610457"
     },
     "user_tz": -330
    },
    "id": "AiKe0wBbglOM",
    "outputId": "db7f7bb3-0a2d-4b25-ae0c-308cc6f2a692"
   },
   "outputs": [
    {
     "data": {
      "image/png": "[encoded data removed]",
      "text/plain": [
       "<Figure size 640x480 with 1 Axes>"
      ]
     },
     "metadata": {},
     "output_type": "display_data"
    }
   ],
   "source": [
    "# summarize history for accuracy\n",
    "plt.plot(model_history.history['accuracy'])\n",
    "plt.plot(model_history.history['val_accuracy'])\n",
    "plt.title('model accuracy')\n",
    "plt.ylabel('accuracy')\n",
    "plt.xlabel('epoch')\n",
    "plt.legend(['train', 'validation'], loc='upper left')\n",
    "plt.show()"
   ]
  },
  {
   "cell_type": "code",
   "execution_count": 38,
   "metadata": {
    "executionInfo": {
     "elapsed": 9,
     "status": "ok",
     "timestamp": 1698923393622,
     "user": {
      "displayName": "Shivansh Kaushal",
      "userId": "00410086506157610457"
     },
     "user_tz": -330
    },
    "id": "tvVzU1Gwu7mb"
   },
   "outputs": [],
   "source": []
  }
 ],
 "metadata": {
  "accelerator": "GPU",
  "colab": {
   "provenance": []
  },
  "kernelspec": {
   "display_name": "Python 3 (ipykernel)",
   "language": "python",
   "name": "python3"
  },
  "language_info": {
   "codemirror_mode": {
    "name": "ipython",
    "version": 3
   },
   "file_extension": ".py",
   "mimetype": "text/x-python",
   "name": "python",
   "nbconvert_exporter": "python",
   "pygments_lexer": "ipython3",
   "version": "3.11.4"
  }
 },
 "nbformat": 4,
 "nbformat_minor": 1
}
